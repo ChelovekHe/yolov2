{
 "cells": [
  {
   "cell_type": "code",
   "execution_count": null,
   "metadata": {
    "collapsed": true
   },
   "outputs": [],
   "source": [
    "from yolov2.model import YOLOv2, darknet19\n",
    "import keras.backend as K\n",
    "from cfg import *\n",
    "\n",
    "K.clear_session() # Avoid duplicate model\n",
    "darknet19 = darknet19(freeze_layers=True)\n",
    "yolov2    = YOLOv2(feature_extractor=darknet19, num_anchors=len(ANCHORS), num_classes=N_CLASSES)\n",
    "model     = yolov2.model\n",
    "print(model.summary())"
   ]
  },
  {
   "cell_type": "code",
   "execution_count": null,
   "metadata": {
    "collapsed": true
   },
   "outputs": [],
   "source": [
    "from keras.models import load_model\n",
    "\n",
    "model.load_weights('yolov2.weights', by_name=True)"
   ]
  },
  {
   "cell_type": "code",
   "execution_count": null,
   "metadata": {
    "collapsed": true
   },
   "outputs": [],
   "source": [
    "\n",
    "THRESHOLD = 0.6\n",
    "LABELS   =  ['addedLane', 'bicyclesMayUseFullLane', 'curveLeft', 'curveRight', 'doNotEnter', 'intersection', 'intersectionLaneControl', 'keepRight', 'laneEnds',\n",
    " 'leftAndUTurnControl', 'merge', 'noLeftAndUTurn', 'noParking', 'noRightTurn',\n",
    " 'noUTurn', 'pedestrianCrossing', 'school', 'signalAhead', 'speedBumpsAhead',\n",
    " 'speedLimit15', 'speedLimit25', 'speedLimit30', 'speedLimit35', 'speedLimit40',\n",
    " 'speedLimit45', 'speedLimit50', 'speedLimit60', 'stop', 'stopAhead',\n",
    " 'yieldAhead', 'yieldToPedestrian']"
   ]
  },
  {
   "cell_type": "code",
   "execution_count": null,
   "metadata": {
    "collapsed": true
   },
   "outputs": [],
   "source": [
    "import cv2\n",
    "\n",
    "class BoundBox:\n",
    "    def __init__(self, class_num):\n",
    "        self.x, self.y, self.w, self.h, self.c = 0., 0., 0., 0., 0.\n",
    "        self.probs = np.zeros((class_num,))"
   ]
  },
  {
   "cell_type": "code",
   "execution_count": null,
   "metadata": {
    "collapsed": true
   },
   "outputs": [],
   "source": [
    "import tensorflow as tf \n",
    "\n",
    "\n",
    "def softmax(x):\n",
    "    return np.exp(x) / np.sum(np.exp(x), axis=0)\n",
    "\n",
    "def sigmoid(x):\n",
    "    return 1. / (1.  + np.exp(-x))\n",
    "\n",
    "def interpret_netout(image, netout):\n",
    "    output_shape = K.shape(netout)\n",
    "    boxes = []\n",
    "    with sess.as_default():\n",
    "        GRID_W = tf.cast(output_shape[0], tf.int32).eval()\n",
    "        GRID_H = tf.cast(output_shape[1], tf.int32).eval()\n",
    "    \n",
    "    netout = np.reshape(netout, [GRID_W, GRID_H, len(ANCHORS), -1])\n",
    "    # interpret the output by the network\n",
    "    print(GRID_W, GRID_H)\n",
    "    print(np.shape(netout))\n",
    "    for row in range(GRID_W):\n",
    "        for col in range(GRID_H):\n",
    "            for b in range(len(ANCHORS)):\n",
    "                box = BoundBox(N_CLASSES)\n",
    "\n",
    "                # first 5 weights for x, y, w, h and confidence\n",
    "                box.x, box.y, box.w, box.h, box.c = netout[row, col, b,:5]\n",
    "                box.x = (col + sigmoid(box.x)) / GRID_W\n",
    "                box.y = (row + sigmoid(box.y)) / GRID_H\n",
    "                box.w = ANCHORS[b][0] * np.exp(box.w) / GRID_W\n",
    "                box.h = ANCHORS[b][1] * np.exp(box.h) / GRID_H\n",
    "                box.c = sigmoid(box.c)\n",
    "\n",
    "                # last  weights for class probabilities\n",
    "                classes = netout[row,col,b,5:]\n",
    "                box.probs = softmax(classes) * box.c # P(obj|class) = P(obj)*softmax(P(classes))\n",
    "                box.probs *= box.probs > THRESHOLD\n",
    "                boxes.append(box)\n",
    "\n",
    "    # suppress non-maximal boxes\n",
    "    for c in range(N_CLASSES):\n",
    "        sorted_indices = list(reversed(np.argsort([box.probs[c] for box in boxes])))\n",
    "\n",
    "        for i in xrange(len(sorted_indices)):\n",
    "            index_i = sorted_indices[i]\n",
    "            \n",
    "            if boxes[index_i].probs[c] == 0: \n",
    "                continue\n",
    "            else:\n",
    "                for j in xrange(i+1, len(sorted_indices)):\n",
    "                    index_j = sorted_indices[j]\n",
    "                    \n",
    "                    if boxes[index_i].iou(boxes[index_j]) >= 0.4:\n",
    "                        boxes[index_j].probs[c] = 0\n",
    "\n",
    "    # draw the boxes using a threshold\n",
    "    for box in boxes:\n",
    "        max_indx = np.argmax(box.probs)\n",
    "        max_prob = box.probs[max_indx]\n",
    "        \n",
    "        if max_prob > THRESHOLD:\n",
    "            xmin  = int((box.x - box.w/2) * image.shape[1])\n",
    "            xmax  = int((box.x + box.w/2) * image.shape[1])\n",
    "            ymin  = int((box.y - box.h/2) * image.shape[0])\n",
    "            ymax  = int((box.y + box.h/2) * image.shape[0])\n",
    "\n",
    "            cv2.rectangle(image, (xmin,ymin), (xmax,ymax),np.random.randint(0, 255, [3]), 3)\n",
    "            cv2.putText(image, LABELS[max_indx], (xmin, ymin - 12), 0, 1e-3 * image.shape[0], (0,255,0), 2)\n",
    "    return image"
   ]
  },
  {
   "cell_type": "code",
   "execution_count": null,
   "metadata": {
    "collapsed": true
   },
   "outputs": [],
   "source": [
    "import matplotlib.pyplot as plt\n",
    "%matplotlib inline\n",
    "image = cv2.imread('stop.jpg')\n",
    "\n",
    "plt.figure(figsize=(10,10))\n",
    "\n",
    "input_image = cv2.resize(image, (960, 1280))\n",
    "input_image = input_image / 255.\n",
    "input_image = input_image[:,:,::-1]\n",
    "input_image = np.expand_dims(input_image, 0)\n",
    "\n",
    "sess = K.get_session()\n",
    "\n",
    "netout = model.predict(input_image)\n",
    "\n",
    "#print netout\n",
    "image = interpret_netout(image, netout[0])\n",
    "plt.imshow(image[:,:,::-1]); plt.show()"
   ]
  },
  {
   "cell_type": "code",
   "execution_count": null,
   "metadata": {
    "collapsed": true
   },
   "outputs": [],
   "source": []
  }
 ],
 "metadata": {
  "kernelspec": {
   "display_name": "Python 2",
   "language": "python",
   "name": "python2"
  },
  "language_info": {
   "codemirror_mode": {
    "name": "ipython",
    "version": 2
   },
   "file_extension": ".py",
   "mimetype": "text/x-python",
   "name": "python",
   "nbconvert_exporter": "python",
   "pygments_lexer": "ipython2",
   "version": "2.7.13"
  }
 },
 "nbformat": 4,
 "nbformat_minor": 2
}
