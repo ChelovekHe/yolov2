{
 "cells": [
  {
   "cell_type": "code",
   "execution_count": null,
   "metadata": {
    "collapsed": true
   },
   "outputs": [],
   "source": [
    "from yolov2.model import YOLOv2, darknet19\n",
    "import keras.backend as K\n",
    "\n",
    "K.clear_session() # Avoid duplicate model\n",
    "\n",
    "darknet19 = darknet19(pretrained_path, freeze_layers=True)\n",
    "yolov2    = YOLOv2(feature_extractor=darknet19, num_anchors=len(ANCHORS), num_classes=N_CLASSES)\n",
    "model     = yolov2.model"
   ]
  },
  {
   "cell_type": "code",
   "execution_count": null,
   "metadata": {
    "collapsed": true
   },
   "outputs": [],
   "source": [
    "model.load_weights('yolov2.weights')"
   ]
  },
  {
   "cell_type": "code",
   "execution_count": null,
   "metadata": {
    "collapsed": true
   },
   "outputs": [],
   "source": [
    "import keras.backend as K\n",
    "from cfg import *\n",
    "\n",
    "def interpret_netout(image, netout):\n",
    "    outshape = K.shape(netout)[1:3]\n",
    "    netout = K.reshape(netout,[-1, outshape[0], outshape[1], ])\n",
    "    boxes = []\n",
    "\n",
    "    # interpret the output by the network\n",
    "    for row in range(GRID_H):\n",
    "        for col in range(GRID_W):\n",
    "            for b in range(BOX):\n",
    "                box = BoundBox(CLASS)\n",
    "\n",
    "                # first 5 weights for x, y, w, h and confidence\n",
    "                box.x, box.y, box.w, box.h, box.c = netout[row,col,b,:5]\n",
    "                box.x = (col + sigmoid(box.x)) / GRID_W\n",
    "                box.y = (row + sigmoid(box.y)) / GRID_H\n",
    "                box.w = ANCHORS[2 * b + 0] * np.exp(box.w) / GRID_W\n",
    "                box.h = ANCHORS[2 * b + 1] * np.exp(box.h) / GRID_H\n",
    "                box.c = sigmoid(box.c)\n",
    "\n",
    "                # last 20 weights for class likelihoods\n",
    "                classes = netout[row,col,b,5:]\n",
    "                box.probs = softmax(classes) * box.c\n",
    "                box.probs *= box.probs > THRESHOLD\n",
    "\n",
    "                boxes.append(box)\n",
    "\n",
    "    # suppress non-maximal boxes\n",
    "    for c in range(CLASS):\n",
    "        sorted_indices = list(reversed(np.argsort([box.probs[c] for box in boxes])))\n",
    "\n",
    "        for i in xrange(len(sorted_indices)):\n",
    "            index_i = sorted_indices[i]\n",
    "            \n",
    "            if boxes[index_i].probs[c] == 0: \n",
    "                continue\n",
    "            else:\n",
    "                for j in xrange(i+1, len(sorted_indices)):\n",
    "                    index_j = sorted_indices[j]\n",
    "                    \n",
    "                    if boxes[index_i].iou(boxes[index_j]) >= 0.4:\n",
    "                        boxes[index_j].probs[c] = 0\n",
    "\n",
    "    # draw the boxes using a threshold\n",
    "    for box in boxes:\n",
    "        max_indx = np.argmax(box.probs)\n",
    "        max_prob = box.probs[max_indx]\n",
    "        \n",
    "        if max_prob > THRESHOLD:\n",
    "            xmin  = int((box.x - box.w/2) * image.shape[1])\n",
    "            xmax  = int((box.x + box.w/2) * image.shape[1])\n",
    "            ymin  = int((box.y - box.h/2) * image.shape[0])\n",
    "            ymax  = int((box.y + box.h/2) * image.shape[0])\n",
    "\n",
    "\n",
    "            cv2.rectangle(image, (xmin,ymin), (xmax,ymax), COLORS[max_indx], 2)\n",
    "            cv2.putText(image, LABELS[max_indx], (xmin, ymin - 12), 0, 1e-3 * image.shape[0], (0,255,0), 2)\n",
    "            \n",
    "    return image"
   ]
  },
  {
   "cell_type": "code",
   "execution_count": null,
   "metadata": {
    "collapsed": true
   },
   "outputs": [],
   "source": [
    "image = cv2.imread('images/dog.jpg')\n",
    "\n",
    "plt.figure(figsize=(10,10))\n",
    "\n",
    "input_image = cv2.resize(image, (960, 1280))\n",
    "input_image = input_image / 255.\n",
    "input_image = input_image[:,:,::-1]\n",
    "input_image = np.expand_dims(input_image, 0)\n",
    "\n",
    "netout = model.predict(input_image)\n",
    "\n",
    "#print netout\n",
    "image = interpret_netout(image, netout[0])\n",
    "plt.imshow(image[:,:,::-1]); plt.show()"
   ]
  }
 ],
 "metadata": {
  "kernelspec": {
   "display_name": "Python 2",
   "language": "python",
   "name": "python2"
  },
  "language_info": {
   "codemirror_mode": {
    "name": "ipython",
    "version": 2
   },
   "file_extension": ".py",
   "mimetype": "text/x-python",
   "name": "python",
   "nbconvert_exporter": "python",
   "pygments_lexer": "ipython2",
   "version": "2.7.13"
  }
 },
 "nbformat": 4,
 "nbformat_minor": 2
}
