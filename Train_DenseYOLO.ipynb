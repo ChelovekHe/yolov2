{
 "cells": [
  {
   "cell_type": "code",
   "execution_count": null,
   "metadata": {},
   "outputs": [],
   "source": [
    "import sys\n",
    "print(sys.version) # Check Python Version\n",
    "import os\n",
    "from cfg import *\n",
    "import numpy as np\n",
    "from utils.parse_input import load_data    # Data handler for LISA dataset\n",
    "\n",
    "x_train, y_train = load_data('training.txt')\n",
    "labels           = np.unique(y_train[:,1])\n",
    "num_classes      = len(labels)            # Count number of classes in the dataset\n",
    "\n",
    "print(\"Train: {} samples\\nNumber of classes: {}\".format(len(x_train),num_classes))\n",
    "print(\"\\nLabel Sample: \\n{}\".format(y_train[0]))"
   ]
  },
  {
   "cell_type": "code",
   "execution_count": null,
   "metadata": {},
   "outputs": [],
   "source": [
    "from model.yolov2 import YOLOv2\n",
    "from model.densenet161 import DenseNet\n",
    "import keras.backend as K\n",
    "K.clear_session() # Avoid duplicate model \n",
    "\n",
    "# Original YOLOv2 - Trained on COCO Dataset\n",
    "# darknet19 = darknet19(freeze_layers=True)\n",
    "model = DenseNet()\n",
    "model.summary()\n",
    "model.load_weights('densenet169_weights_tf.h5')"
   ]
  },
  {
   "cell_type": "code",
   "execution_count": null,
   "metadata": {
    "collapsed": true
   },
   "outputs": [],
   "source": [
    "dense.summary()"
   ]
  },
  {
   "cell_type": "code",
   "execution_count": null,
   "metadata": {
    "collapsed": true
   },
   "outputs": [],
   "source": [
    "yolov2    = YOLOv2(feature_extractor=darknet19, num_anchors=5, num_classes=80)\n",
    "yolov2.model.load_weights('../yolo-coco.h5')\n",
    "yolov2.model.summary()"
   ]
  }
 ],
 "metadata": {
  "kernelspec": {
   "display_name": "Python 2",
   "language": "python",
   "name": "python2"
  },
  "language_info": {
   "codemirror_mode": {
    "name": "ipython",
    "version": 2
   },
   "file_extension": ".py",
   "mimetype": "text/x-python",
   "name": "python",
   "nbconvert_exporter": "python",
   "pygments_lexer": "ipython2",
   "version": "2.7.13"
  }
 },
 "nbformat": 4,
 "nbformat_minor": 2
}
