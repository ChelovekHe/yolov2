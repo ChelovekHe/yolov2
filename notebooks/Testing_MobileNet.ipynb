{
 "cells": [
  {
   "cell_type": "code",
   "execution_count": null,
   "metadata": {
    "collapsed": true
   },
   "outputs": [],
   "source": [
    "import cv2\n",
    "import matplotlib.pyplot as plt\n",
    "# Add relative path\n",
    "import os\n",
    "import sys\n",
    "module_path = os.path.abspath(os.path.join('..'))\n",
    "if module_path not in sys.path:\n",
    "    sys.path.append(module_path)\n",
    "from utils.augment_img import preprocess_img\n",
    "%matplotlib inline\n",
    "\n",
    "\n",
    "original_img = cv2.cvtColor(cv2.imread('/media/sharedHDD/LISA/aiua120214-2/frameAnnotations-DataLog02142012_002_external_camera.avi_annotations/signalAhead_1331866722.avi_image5.png'), cv2.COLOR_BGR2RGB)\n",
    "img = cv2.resize(original_img, (608, 608))\n",
    "# img = original_img\n",
    "plt.figure(figsize=(14, 14))\n",
    "plt.imshow(img)\n",
    "print(img.shape)"
   ]
  },
  {
   "cell_type": "code",
   "execution_count": null,
   "metadata": {
    "collapsed": true
   },
   "outputs": [],
   "source": [
    "from model.densenet import DenseNet\n",
    "from model.MobileYolo import MobileYolo\n",
    "import tensorflow as tf\n",
    "import keras.backend as K\n",
    "from cfg import *\n",
    "K.clear_session()  # to avoid duplicating model\n",
    "\n",
    "with tf.device('/cpu:0'):\n",
    "    densenet = DenseNet(img_input=(608, 608, 3), reduction=0.5, freeze_layers=True, dropout_rate=None)\n",
    "    yolov2 = MobileYolo(feature_extractor=densenet, num_anchors=N_ANCHORS, num_classes=N_CLASSES, dropout=None,\n",
    "                        fine_grain_layer='conv4_blk')\n",
    "    yolov2.model.load_weights('../yolov2.weights')\n",
    "    yolov2.model.summary()"
   ]
  },
  {
   "cell_type": "code",
   "execution_count": null,
   "metadata": {
    "collapsed": true
   },
   "outputs": [],
   "source": [
    "# Predict\n",
    "with tf.Session() as sess:\n",
    "    boxes_prediction, scores_prediction, classes_prediction = yolov2.predict(img)\n",
    "    \n",
    "print(boxes_prediction, scores_prediction, classes_prediction)"
   ]
  },
  {
   "cell_type": "code",
   "execution_count": null,
   "metadata": {
    "collapsed": true
   },
   "outputs": [],
   "source": [
    "from utils.draw_boxes import Box, draw\n",
    "result = boxes_prediction\n",
    "bboxes = []\n",
    "\n",
    "orig_size = original_img.shape\n",
    "for box, score, cls in zip(result, scores_prediction, classes_prediction):\n",
    "    box = box * np.array(2 *[orig_size[0]/960., orig_size[1]/960.])\n",
    "    y1, x1, y2, x2 = box\n",
    "    print(\"Found a '{}' at {} with {:-2f}%\".format(0, (x1, y1, x2, y2), 100*score))\n",
    "    bboxes.append(Box(x1, y1, x2, y2, 0, score))\n",
    "\n",
    "result = draw(original_img, bboxes)\n",
    "plt.figure(figsize=(15, 15))\n",
    "\n",
    "plt.imshow(result)\n",
    "print(img.shape)"
   ]
  },
  {
   "cell_type": "code",
   "execution_count": null,
   "metadata": {
    "collapsed": true
   },
   "outputs": [],
   "source": []
  }
 ],
 "metadata": {
  "kernelspec": {
   "display_name": "YOLO",
   "language": "python",
   "name": "yolo"
  },
  "language_info": {
   "codemirror_mode": {
    "name": "ipython",
    "version": 2
   },
   "file_extension": ".py",
   "mimetype": "text/x-python",
   "name": "python",
   "nbconvert_exporter": "python",
   "pygments_lexer": "ipython2",
   "version": "2.7.13"
  }
 },
 "nbformat": 4,
 "nbformat_minor": 2
}
