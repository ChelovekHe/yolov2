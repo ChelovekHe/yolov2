{
 "cells": [
  {
   "cell_type": "code",
   "execution_count": 1,
   "metadata": {},
   "outputs": [
    {
     "name": "stderr",
     "output_type": "stream",
     "text": [
      "Using TensorFlow backend.\n"
     ]
    }
   ],
   "source": [
    "import keras.backend as K\n",
    "import tensorflow as tf"
   ]
  },
  {
   "cell_type": "code",
   "execution_count": 78,
   "metadata": {},
   "outputs": [],
   "source": [
    "import numpy as np\n",
    "anchors       = np.array(((0.8224980405412367, 0.8422009361658516),\n",
    "                         (0.3996183458965756, 0.7135638022627926),\n",
    "                         (0.3124547970691455, 0.356975225778714),\n",
    "                         (0.715922252069278, 0.47470965095772916),\n",
    "                         (0.1272335914117044, 0.19679513461111448)))\n",
    "\n",
    "n_anchors = len(anchors)\n",
    "n_classes = 20\n",
    "batch     = 2"
   ]
  },
  {
   "cell_type": "code",
   "execution_count": 104,
   "metadata": {},
   "outputs": [
    {
     "name": "stdout",
     "output_type": "stream",
     "text": [
      "[  71.   26.    5.  110.    1.    0.    0.    0.    0.    0.    0.    0.\n",
      "    0.    0.    0.    0.    1.    0.    0.    0.    0.    0.    0.    0.\n",
      "    0.]\n"
     ]
    }
   ],
   "source": [
    "# Example output layer of YOLOv2 in Batch\n",
    "y_pred      = K.random_uniform_variable(shape=(batch, 3, 4, n_anchors, n_classes+5),low=0, high=1)\n",
    "\n",
    "# Examples of ground truth values\n",
    "label_idx = np.random.randint(0, n_classes)\n",
    "y = np.random.randint(128,size=(batch, n_classes+5)).astype(np.float)\n",
    "y[:,4] = 1 # set objectiveness score\n",
    "y[:,5:]= 0 # set one_hot\n",
    "y[:,5+label_idx]= 1\n",
    "print(y[0])\n",
    "y_true = np.tile(y, (1, 4*3*n_anchors)).reshape([batch, 4*3, n_anchors, n_classes+5])\n",
    "y_true = K.variable(y_true)\n",
    "# Anchors\n",
    "anchors_tensor = K.reshape(K.variable(anchors), [1, 1, 1, n_anchors, 2])"
   ]
  },
  {
   "cell_type": "code",
   "execution_count": 105,
   "metadata": {
    "collapsed": true
   },
   "outputs": [],
   "source": [
    "tf.InteractiveSession()\n",
    "tf.global_variables_initializer().run()"
   ]
  },
  {
   "cell_type": "code",
   "execution_count": 106,
   "metadata": {},
   "outputs": [
    {
     "name": "stdout",
     "output_type": "stream",
     "text": [
      "Ground truth boxes: [batch_size, grid_w*grid_h, box_params]\n",
      "(2, 12, 5, 25)\n",
      "Predicted boxes: [batch_size, height, width, n_anchors, 5 + n_classes]\n",
      "(2, 3, 4, 5, 25)\n"
     ]
    }
   ],
   "source": [
    "print(\"Ground truth boxes: [batch_size, grid_w*grid_h, box_params]\")\n",
    "print(y_true.eval().shape)\n",
    "print(\"Predicted boxes: [batch_size, height, width, n_anchors, 5 + n_classes]\")\n",
    "print(y_pred.eval().shape)"
   ]
  },
  {
   "cell_type": "code",
   "execution_count": 107,
   "metadata": {},
   "outputs": [
    {
     "name": "stdout",
     "output_type": "stream",
     "text": [
      "96.0\n"
     ]
    }
   ],
   "source": [
    "pred_shape = K.shape(y_pred)[1:3]\n",
    "\n",
    "GRID_W = tf.cast(pred_shape[0], tf.float32)\n",
    "GRID_H = tf.cast(pred_shape[1], tf.float32)\n",
    "NORM_W = tf.cast(32.*GRID_W, tf.float32)\n",
    "NORM_H = tf.cast(32.*GRID_H, tf.float32)\n",
    "N_CLASSES = n_classes\n",
    "CLASS      = n_classes\n",
    "ANCHORS   = anchors\n",
    "SCALE_NOOB = 0.5\n",
    "SCALE_CONF = 5.0\n",
    "SCALE_COOR = 5.0\n",
    "SCALE_PROB = 1.0\n",
    "\n",
    "BOX              = len(ANCHORS)\n",
    "N_ANCHORS        = BOX\n",
    "\n",
    "print(NORM_W.eval())"
   ]
  },
  {
   "cell_type": "code",
   "execution_count": 122,
   "metadata": {},
   "outputs": [],
   "source": [
    "# Create Grid map of output layer\n",
    "cx = K.arange(0, stop=pred_shape[0])\n",
    "cx = K.tile(cx, [pred_shape[1]])\n",
    "cy = K.arange(0, stop=pred_shape[1])\n",
    "cy = K.tile(K.expand_dims(cy, 0), [pred_shape[0], 1])\n",
    "cy = K.flatten(K.transpose(cy))\n",
    "\n",
    "c_xy = K.transpose(K.stack([cx, cy]))\n",
    "c_xy = K.reshape(c_xy, [1, pred_shape[1], pred_shape[0], 2])\n",
    "c_xy = tf.transpose(c_xy, [0, 2, 1, 3])\n",
    "c_xy = K.cast(c_xy, K.dtype(y_pred))\n",
    "c_xy = K.expand_dims(c_xy, 3)\n",
    "c_xy = K.tile(c_xy, [1, 1, 1, N_ANCHORS, 1])"
   ]
  },
  {
   "cell_type": "code",
   "execution_count": 123,
   "metadata": {},
   "outputs": [
    {
     "name": "stdout",
     "output_type": "stream",
     "text": [
      "(2, 3, 4, 5, 2)\n",
      "Adjusted Predicted Centroid of Bounding Box\n",
      "[[ 1.71716034  2.58981609]\n",
      " [ 1.58380818  2.62486482]\n",
      " [ 1.63618958  2.51320934]\n",
      " [ 1.71979415  2.63625646]\n",
      " [ 1.66058481  2.59275889]]\n",
      "Adjusted Predicted With/Height of Bounding Box\n",
      "[[ 0.58237809  0.58765244]\n",
      " [ 0.45490813  0.42399994]\n",
      " [ 0.41613922  0.37682661]\n",
      " [ 0.52141809  0.48469809]\n",
      " [ 0.2658411   0.32954934]]\n"
     ]
    }
   ],
   "source": [
    "y_pred = K.reshape(y_pred, [-1, pred_shape[0], pred_shape[1], N_ANCHORS, N_CLASSES + 5])\n",
    "y_true = K.reshape(y_true, [-1, pred_shape[0], pred_shape[1], N_ANCHORS, N_CLASSES + 5])\n",
    "anchor_tensor = K.reshape(ANCHORS, [1, 1, 1, N_ANCHORS, 2])\n",
    "\n",
    "y_pred_shape = K.shape(y_pred)\n",
    "### Adjust prediction\n",
    "# adjust x and y # adjust w and h     \n",
    "pred_box_xy = tf.sigmoid(y_pred[:,:,:,:,:2])+ c_xy\n",
    "pred_box_wh   = tf.exp(y_pred[:,:,:,:,2:4]) * K.cast(anchor_tensor, dtype=K.dtype(y_pred))\n",
    "pred_box_wh   = tf.sqrt(pred_box_wh / K.reshape([GRID_W, GRID_H], [1,1,1,1,2]))\n",
    "pred_box_conf = tf.expand_dims(tf.sigmoid(y_pred[:, :, :, :, 4]), -1) # adjust confidence: {P_objxIoU}\n",
    "pred_box_prob = tf.nn.softmax(y_pred[:, :, :, :, 5:]) # adjust probability\n",
    "\n",
    "print(K.sigmoid(y_pred[...,:2]).eval().shape) # [x, y] predction\n",
    "print(\"Adjusted Predicted Centroid of Bounding Box\")\n",
    "print(pred_box_xy.eval()[0][1][2])\n",
    "print(\"Adjusted Predicted With/Height of Bounding Box\")\n",
    "print(pred_box_wh.eval()[0][1][2])"
   ]
  },
  {
   "cell_type": "code",
   "execution_count": 124,
   "metadata": {},
   "outputs": [
    {
     "name": "stdout",
     "output_type": "stream",
     "text": [
      "(2, 3, 4, 5, 2)\n",
      "Adjusted Ground truth Centroid of Bounding Box\n",
      "[[ 2.21875  0.8125 ]\n",
      " [ 2.21875  0.8125 ]\n",
      " [ 2.21875  0.8125 ]\n",
      " [ 2.21875  0.8125 ]\n",
      " [ 2.21875  0.8125 ]]\n",
      "Adjustes Ground truth With/Height of Bounding Box [Relative]\n",
      "[[ 0.22821774  0.92702478]\n",
      " [ 0.22821774  0.92702478]\n",
      " [ 0.22821774  0.92702478]\n",
      " [ 0.22821774  0.92702478]\n",
      " [ 0.22821774  0.92702478]]\n"
     ]
    }
   ],
   "source": [
    "### Adjust ground truth\n",
    "# adjust x, y, w ,h\n",
    "true_box_xy = y_true[:,:,:,:,0:2] / K.reshape([(NORM_W/GRID_W), (NORM_H/GRID_H)], [1,1,1,1,2])\n",
    "true_box_wh = tf.sqrt(y_true[:,:,:,:,2:4]  / K.reshape([NORM_W, NORM_H], [1,1,1,1,2]))\n",
    "\n",
    "print(y_true[...,:2].eval().shape) # [x, y] predction\n",
    "print(\"Adjusted Ground truth Centroid of Bounding Box\")\n",
    "print(true_box_xy.eval()[0][1][2])\n",
    "print(\"Adjustes Ground truth With/Height of Bounding Box [Relative]\")\n",
    "print(true_box_wh.eval()[0][1][2])"
   ]
  },
  {
   "cell_type": "code",
   "execution_count": 99,
   "metadata": {},
   "outputs": [
    {
     "name": "stdout",
     "output_type": "stream",
     "text": [
      "(2, 3, 4, 5)\n",
      "IoU GT & Prediction\n",
      "[[[ 0.          0.          0.          0.          0.        ]\n",
      "  [ 0.          0.          0.          0.          0.        ]\n",
      "  [ 0.          0.          0.          0.          0.        ]\n",
      "  [ 0.          0.          0.          0.          0.        ]]\n",
      "\n",
      " [[ 0.          0.          0.          0.          0.        ]\n",
      "  [ 0.          0.          0.          0.          0.        ]\n",
      "  [ 0.08456285  0.00805055  0.04277421  0.02820491  0.        ]\n",
      "  [ 0.25879475  0.09616462  0.03391831  0.09069596  0.0105485 ]]\n",
      "\n",
      " [[ 0.          0.          0.          0.          0.        ]\n",
      "  [ 0.          0.          0.          0.          0.        ]\n",
      "  [ 0.28087306  0.05945022  0.02553074  0.13938642  0.01349546]\n",
      "  [ 0.46574184  0.27338773  0.04353723  0.26121804  0.02363139]]]\n",
      "\n",
      "\n",
      "Adjusted IoU > certain threshold\n",
      "(2, 3, 4, 5)\n",
      "[[[ 0.  0.  0.  0.  0.]\n",
      "  [ 0.  0.  0.  0.  0.]\n",
      "  [ 0.  0.  0.  0.  0.]\n",
      "  [ 0.  0.  0.  0.  0.]]\n",
      "\n",
      " [[ 0.  0.  0.  0.  0.]\n",
      "  [ 0.  0.  0.  0.  0.]\n",
      "  [ 0.  0.  0.  0.  0.]\n",
      "  [ 0.  0.  0.  0.  0.]]\n",
      "\n",
      " [[ 0.  0.  0.  0.  0.]\n",
      "  [ 0.  0.  0.  0.  0.]\n",
      "  [ 0.  0.  0.  0.  0.]\n",
      "  [ 1.  0.  0.  0.  0.]]]\n"
     ]
    }
   ],
   "source": [
    "# adjust confidence\n",
    "pred_tem_wh = tf.pow(pred_box_wh, 2) * K.reshape([GRID_W, GRID_H], [1,1,1,1,2])\n",
    "pred_box_area = pred_tem_wh[:,:,:,:,0] * pred_tem_wh[:,:,:,:,1]\n",
    "pred_box_ul = pred_box_xy - 0.5 * pred_tem_wh\n",
    "pred_box_bd = pred_box_xy + 0.5 * pred_tem_wh\n",
    "\n",
    "true_tem_wh = tf.pow(true_box_wh, 2) * K.reshape([GRID_W, GRID_H], [1,1,1,1,2])\n",
    "true_box_area = true_tem_wh[:,:,:,:,0] * true_tem_wh[:,:,:,:,1]\n",
    "true_box_ul = true_box_xy - 0.5 * true_tem_wh\n",
    "true_box_bd = true_box_xy + 0.5 * true_tem_wh\n",
    "\n",
    "intersect_ul = tf.maximum(pred_box_ul, true_box_ul) \n",
    "intersect_br = tf.minimum(pred_box_bd, true_box_bd)\n",
    "intersect_wh = intersect_br - intersect_ul\n",
    "intersect_wh = tf.maximum(intersect_wh, 0.0)\n",
    "intersect_area = intersect_wh[:,:,:,:,0] * intersect_wh[:,:,:,:,1]\n",
    "\n",
    "iou = tf.truediv(intersect_area, true_box_area + pred_box_area - intersect_area)\n",
    "detected_objects = K.cast(iou > 0.3, K.dtype(iou))\n",
    "\n",
    "print(iou.eval().shape)\n",
    "print(\"IoU GT & Prediction\")\n",
    "print(iou.eval()[0])\n",
    "\n",
    "print(\"\\n\\nAdjusted IoU > certain threshold\")\n",
    "print(detected_objects.eval().shape)\n",
    "print(detected_objects.eval()[0])"
   ]
  },
  {
   "cell_type": "code",
   "execution_count": 100,
   "metadata": {},
   "outputs": [
    {
     "ename": "NameError",
     "evalue": "name 'detectors_mask' is not defined",
     "output_type": "error",
     "traceback": [
      "\u001b[0;31m---------------------------------------------------------------------------\u001b[0m",
      "\u001b[0;31mNameError\u001b[0m                                 Traceback (most recent call last)",
      "\u001b[0;32m<ipython-input-100-d8bd64c411fe>\u001b[0m in \u001b[0;36m<module>\u001b[0;34m()\u001b[0m\n\u001b[1;32m      8\u001b[0m \u001b[0;34m\u001b[0m\u001b[0m\n\u001b[1;32m      9\u001b[0m \u001b[0;31m# Objectivess Loss\u001b[0m\u001b[0;34m\u001b[0m\u001b[0;34m\u001b[0m\u001b[0m\n\u001b[0;32m---> 10\u001b[0;31m \u001b[0mno_object_weights\u001b[0m \u001b[0;34m=\u001b[0m \u001b[0mno_object_scale\u001b[0m \u001b[0;34m*\u001b[0m \u001b[0;34m(\u001b[0m\u001b[0;36m1\u001b[0m \u001b[0;34m-\u001b[0m \u001b[0mdetected_objects\u001b[0m\u001b[0;34m)\u001b[0m \u001b[0;34m*\u001b[0m\u001b[0;34m(\u001b[0m\u001b[0;36m1\u001b[0m \u001b[0;34m-\u001b[0m \u001b[0mdetectors_mask\u001b[0m\u001b[0;34m)\u001b[0m\u001b[0;34m\u001b[0m\u001b[0m\n\u001b[0m\u001b[1;32m     11\u001b[0m \u001b[0mno_objects_loss\u001b[0m   \u001b[0;34m=\u001b[0m \u001b[0mno_object_weights\u001b[0m \u001b[0;34m*\u001b[0m \u001b[0mK\u001b[0m\u001b[0;34m.\u001b[0m\u001b[0msquare\u001b[0m\u001b[0;34m(\u001b[0m\u001b[0;34m-\u001b[0m\u001b[0mpred_box_conf\u001b[0m\u001b[0;34m)\u001b[0m\u001b[0;34m\u001b[0m\u001b[0m\n\u001b[1;32m     12\u001b[0m \u001b[0mobjects_loss\u001b[0m      \u001b[0;34m=\u001b[0m \u001b[0mobject_scale\u001b[0m \u001b[0;34m*\u001b[0m \u001b[0mdetectors_mask\u001b[0m \u001b[0;34m*\u001b[0m \u001b[0mK\u001b[0m\u001b[0;34m.\u001b[0m\u001b[0msquare\u001b[0m\u001b[0;34m(\u001b[0m\u001b[0;36m1\u001b[0m \u001b[0;34m-\u001b[0m \u001b[0mpred_confidence\u001b[0m\u001b[0;34m)\u001b[0m\u001b[0;34m\u001b[0m\u001b[0m\n",
      "\u001b[0;31mNameError\u001b[0m: name 'detectors_mask' is not defined"
     ]
    }
   ],
   "source": [
    "object_scale      = 5\n",
    "no_object_scale   = 1\n",
    "class_scale       = 1\n",
    "coordinates_scale = 1\n",
    "\n",
    "y_true = tf.concat([true_box_xy, true_box_wh, true_box_conf, true_box_prob], 4)\n",
    "y_pred = tf.concat([pred_box_xy, pred_box_wh, pred_box_conf, pred_box_prob], 4)\n",
    "\n",
    "# Objectivess Loss\n",
    "no_object_weights = no_object_scale * (1 - detected_objects) *(1 - detectors_mask)\n",
    "no_objects_loss   = no_object_weights * K.square(-pred_box_conf)\n",
    "objects_loss      = object_scale * detectors_mask * K.square(1 - pred_confidence)\n",
    "\n",
    "confidence_loss = objects_loss + no_objects_loss\n",
    "\n",
    "# Localization loss\n",
    "coor_loss = coordinates_scale*tf.nn.l2_loss(pred_box_xy - true_box_xy)\n",
    "# Objectiveness Loss\n",
    "\n",
    "# Classification loss - cross-entropy\n",
    "clf_loss =  tf.nn.softmax_cross_entropy_with_logits(logits=pred_box_prob, labels=true_box_prob)*best_box\n",
    "\n",
    "# print(coor_loss.eval())\n",
    "print(clf_loss.eval())"
   ]
  },
  {
   "cell_type": "code",
   "execution_count": null,
   "metadata": {
    "collapsed": true
   },
   "outputs": [],
   "source": []
  }
 ],
 "metadata": {
  "kernelspec": {
   "display_name": "Python 2",
   "language": "python",
   "name": "python2"
  },
  "language_info": {
   "codemirror_mode": {
    "name": "ipython",
    "version": 3
   },
   "file_extension": ".py",
   "mimetype": "text/x-python",
   "name": "python",
   "nbconvert_exporter": "python",
   "pygments_lexer": "ipython3",
   "version": "3.6.1"
  }
 },
 "nbformat": 4,
 "nbformat_minor": 2
}
