{
 "cells": [
  {
   "cell_type": "markdown",
   "metadata": {},
   "source": [
    "### Graph Structures of TensorFlow"
   ]
  },
  {
   "cell_type": "code",
   "execution_count": 1,
   "metadata": {},
   "outputs": [
    {
     "name": "stderr",
     "output_type": "stream",
     "text": [
      "Using TensorFlow backend.\n"
     ]
    }
   ],
   "source": [
    "import keras.backend as K\n",
    "import tensorflow as tf"
   ]
  },
  {
   "cell_type": "code",
   "execution_count": 2,
   "metadata": {},
   "outputs": [],
   "source": [
    "import numpy as np\n",
    "\n",
    "\n",
    "anchors       = np.array(((0.8224980405412367, 0.8422009361658516),\n",
    "                         (0.3996183458965756, 0.7135638022627926),\n",
    "                         (0.3124547970691455, 0.356975225778714),\n",
    "                         (0.715922252069278, 0.47470965095772916),\n",
    "                         (0.1272335914117044, 0.19679513461111448)))\n",
    "\n",
    "n_anchors = len(anchors)\n",
    "n_classes = 20\n",
    "batch     = 2\n",
    "\n",
    "# Example output layer of YOLOv2 in Batch\n",
    "feature_map      = K.random_uniform_variable(shape=(batch, 3, 4, n_anchors, n_classes+5),low=0, high=1)\n",
    "feature_map_dims = K.shape(feature_map)[1:3]\n",
    "\n",
    "# Examples of ground truth values\n",
    "ground_truth     = K.random_uniform_variable(shape=(batch, n_classes+5), low=0, high = 1)\n",
    "\n",
    "# Anchors\n",
    "anchors_tensor = K.reshape(K.variable(anchors), [1, 1, 1, n_anchors, 2])\n"
   ]
  },
  {
   "cell_type": "code",
   "execution_count": null,
   "metadata": {
    "collapsed": true
   },
   "outputs": [],
   "source": [
    "tf.InteractiveSession()\n",
    "tf.global_variables_initializer().run()"
   ]
  },
  {
   "cell_type": "code",
   "execution_count": null,
   "metadata": {},
   "outputs": [],
   "source": [
    "print(\"Ground truth boxes: [batch_size, grid_w*grid_h, box_params]\")\n",
    "print(ground_truth.eval().shape)"
   ]
  },
  {
   "cell_type": "code",
   "execution_count": null,
   "metadata": {},
   "outputs": [],
   "source": [
    "print(\"Predicted boxes: [batch_size, height, width, n_anchors, 5 + n_classes]\")\n",
    "print(feature_map.eval().shape)"
   ]
  },
  {
   "cell_type": "code",
   "execution_count": null,
   "metadata": {},
   "outputs": [],
   "source": [
    "pred_shape = 3, 4\n",
    "N_ANCHORS = 5\n",
    "cx = K.arange(0, stop=pred_shape[0])\n",
    "cx = K.tile(cx, [pred_shape[1]])\n",
    "cy = K.arange(0, stop=pred_shape[1])\n",
    "cy = K.tile(K.expand_dims(cy, 0), [pred_shape[0], 1])\n",
    "cy = K.flatten(K.transpose(cy))\n",
    "\n",
    "c_xy = K.transpose(K.stack([cx, cy]))\n",
    "c_xy = K.reshape(c_xy, [1, pred_shape[1], pred_shape[0], 2])\n",
    "c_xy = tf.transpose(c_xy, [0, 2, 1, 3])\n",
    "c_xy = K.cast(c_xy, K.dtype(feats))\n",
    "c_xy = K.expand_dims(c_xy, 3)\n",
    "c_xy = K.tile(c_xy, [1, 1, 1, N_ANCHORS, 1])/ np.reshape([float(3), float(4)], [1, 1, 1, 1, 2])\n",
    "print(cx.eval().shape)\n",
    "print(cx.eval())\n",
    "\n",
    "print(cy.eval().shape)\n",
    "print(cy.eval())\n",
    "\n",
    "print(c_xy.eval().shape)\n",
    "print(c_xy.eval())"
   ]
  },
  {
   "cell_type": "code",
   "execution_count": null,
   "metadata": {},
   "outputs": [],
   "source": [
    "t_xy = feature_map[..., :2]\n",
    "print(t_xy.eval().shape)\n",
    "print(t_xy.eval())"
   ]
  },
  {
   "cell_type": "code",
   "execution_count": null,
   "metadata": {},
   "outputs": [],
   "source": [
    "b_xy = t_xy + c_xy\n",
    "print(b_xy.eval())"
   ]
  },
  {
   "cell_type": "code",
   "execution_count": null,
   "metadata": {},
   "outputs": [],
   "source": [
    "conv_shape   = K.shape(feature_map)[1:3]  # Get width, height - assuming 'channels_last' in Keras\n",
    "feats        = K.reshape(feature_map, [-1, conv_shape[0], conv_shape[1], n_anchors, n_classes + 5])\n",
    "\n",
    "cx = 0\n",
    "cy = 0\n",
    "# print(feature_map.eval())\n",
    "box_xy          = K.sigmoid(feats[..., :2])\n",
    "box_wh          = K.exp(feats[..., 2:4])\n",
    "box_confidence  = K.sigmoid(feats[..., 4:5])\n",
    "box_class_probs = K.softmax(feats[..., 5:])\n",
    "print(box_xy.eval().shape)"
   ]
  },
  {
   "cell_type": "code",
   "execution_count": null,
   "metadata": {
    "collapsed": true
   },
   "outputs": [],
   "source": [
    "# batch, conv_height, conv_width, num_anchors, num_true_boxes, box_params\n",
    "gt_shape = K.shape(ground_truth )\n",
    "true_boxes = K.reshape(ground_truth, [gt_shape[0], 1, 1, 1, gt_shape[1], gt_shape[2]])\n",
    "true_xy = true_boxes[..., 0:2]\n",
    "true_wh = true_boxes[..., 2:4]\n",
    "\n",
    "# Find IOU of each predicted box with each ground truth box.\n",
    "true_wh_half = true_wh / 2.\n",
    "true_mins = true_xy - true_wh_half\n",
    "true_maxes = true_xy + true_wh_half\n",
    "\n"
   ]
  },
  {
   "cell_type": "code",
   "execution_count": null,
   "metadata": {
    "collapsed": true
   },
   "outputs": [],
   "source": []
  },
  {
   "cell_type": "code",
   "execution_count": null,
   "metadata": {
    "collapsed": true
   },
   "outputs": [],
   "source": [
    "# Anchors\n",
    "cx = 0.\n",
    "cy = 0.\n",
    "px = anchors_tensor[..., 0]\n",
    "py = anchors_tensor[...,1]\n",
    "bx = K.sigmoid(feats[..., 0]) + cx\n",
    "by = K.sigmoid(feats[..., 1]) + cy\n",
    "bw = K.exp(feats[..., 2])*px\n",
    "bh = K.exp(feats[..., 3])*py\n"
   ]
  },
  {
   "cell_type": "code",
   "execution_count": null,
   "metadata": {},
   "outputs": [],
   "source": [
    "a = np.reshape([float(40), float(30)], [1, 1, 1, 1, 2])\n",
    "print(a)"
   ]
  },
  {
   "cell_type": "code",
   "execution_count": null,
   "metadata": {
    "collapsed": true
   },
   "outputs": [],
   "source": []
  }
 ],
 "metadata": {
  "kernelspec": {
   "display_name": "Python 3",
   "language": "python",
   "name": "python3"
  },
  "language_info": {
   "codemirror_mode": {
    "name": "ipython",
    "version": 3
   },
   "file_extension": ".py",
   "mimetype": "text/x-python",
   "name": "python",
   "nbconvert_exporter": "python",
   "pygments_lexer": "ipython3",
   "version": "3.6.1"
  }
 },
 "nbformat": 4,
 "nbformat_minor": 2
}
