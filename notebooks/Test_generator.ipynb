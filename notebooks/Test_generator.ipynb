{
 "cells": [
  {
   "cell_type": "markdown",
   "metadata": {},
   "source": [
    "## Data Generator"
   ]
  },
  {
   "cell_type": "code",
   "execution_count": 1,
   "metadata": {},
   "outputs": [
    {
     "name": "stdout",
     "output_type": "stream",
     "text": [
      "2.7.13 |Anaconda 4.4.0 (64-bit)| (default, Dec 20 2016, 23:09:15) \n",
      "[GCC 4.4.7 20120313 (Red Hat 4.4.7-1)]\n"
     ]
    }
   ],
   "source": [
    "import sys\n",
    "print(sys.version)"
   ]
  },
  {
   "cell_type": "code",
   "execution_count": 2,
   "metadata": {
    "collapsed": true
   },
   "outputs": [],
   "source": [
    "# Add relative path\n",
    "import os\n",
    "import sys\n",
    "module_path = os.path.abspath(os.path.join('..'))\n",
    "if module_path not in sys.path:\n",
    "    sys.path.append(module_path)"
   ]
  },
  {
   "cell_type": "code",
   "execution_count": 3,
   "metadata": {},
   "outputs": [
    {
     "name": "stdout",
     "output_type": "stream",
     "text": [
      "Number of ground truth boxes: 11527 boxes\n",
      "Train: 11527 samples\n",
      "Number of classes: 56\n"
     ]
    }
   ],
   "source": [
    "import numpy as np\n",
    "from utils.parse_txt_to_inputs import parse_txt_to_inputs    # Data handler for LISA dataset\n",
    "\n",
    "x_train, y_train = parse_txt_to_inputs('../training.txt')\n",
    "labels           = np.unique(y_train[:,1])\n",
    "num_classes      = len(labels)  # Count number of classes in the dataset\n",
    "\n",
    "print(\"Train: {} samples\\nNumber of classes: {}\".format(len(x_train),num_classes))"
   ]
  },
  {
   "cell_type": "code",
   "execution_count": 16,
   "metadata": {},
   "outputs": [
    {
     "name": "stdout",
     "output_type": "stream",
     "text": [
      "    frequency                    label  scaling_factor\n",
      "0         296                addedLane               8\n",
      "1          20   bicyclesMayUseFullLane             123\n",
      "2          87                curveLeft              28\n",
      "3         109               curveRight              22\n",
      "4          35                      dip              70\n",
      "5          62               doNotEnter              39\n",
      "6           9                doNotPass             274\n",
      "7          13             intersection             190\n",
      "8          24  intersectionLaneControl             102\n",
      "9         458                keepRight               5\n",
      "10        257                 laneEnds               9\n",
      "11          6      leftAndUTurnControl             411\n",
      "12        284                    merge               8\n",
      "13         73           noLeftAndUTurn              33\n",
      "14         47               noLeftTurn              52\n",
      "15          8                noParking             308\n",
      "16         42              noRightTurn              58\n",
      "17         95                  noUTurn              26\n",
      "18       1608       pedestrianCrossing               1\n",
      "19         11      rampSpeedAdvisory20             224\n",
      "20          5      rampSpeedAdvisory35             494\n",
      "21          3      rampSpeedAdvisory40             823\n",
      "22         29      rampSpeedAdvisory45              85\n",
      "23         16      rampSpeedAdvisory50             154\n",
      "24          3   rampSpeedAdvisoryUrdbl             823\n",
      "25         77        rightLaneMustTurn              32\n",
      "26         53               roundabout              46\n",
      "27        224                   school              11\n",
      "28        105       schoolSpeedLimit25              23\n",
      "29       1353              signalAhead               1\n",
      "30         34                     slow              72\n",
      "31          4          speedBumpsAhead             617\n",
      "32         28             speedLimit15              88\n",
      "33        608             speedLimit25               4\n",
      "34        230             speedLimit30              10\n",
      "35        696             speedLimit35               3\n",
      "36        165             speedLimit40              14\n",
      "37        221             speedLimit45              11\n",
      "38        101             speedLimit50              24\n",
      "39          2             speedLimit55            1235\n",
      "40          3             speedLimit60             823\n",
      "41         74             speedLimit65              33\n",
      "42        132          speedLimitUrdbl              18\n",
      "43       3002                     stop               0\n",
      "44        254                stopAhead               9\n",
      "45          5            thruMergeLeft             494\n",
      "46          7           thruMergeRight             352\n",
      "47         19     thruTrafficMergeLeft             130\n",
      "48         60        truckSpeedLimit55              41\n",
      "49         32                 turnLeft              77\n",
      "50         92                turnRight              26\n",
      "51        236                    yield              10\n",
      "52         61               yieldAhead              40\n",
      "53          8        yieldToPedestrian             308\n",
      "54         21              zoneAhead25             117\n",
      "55         20              zoneAhead45             123\n"
     ]
    },
    {
     "data": {
      "image/png": "[encoded data removed]",
      "text/plain": [
       "<matplotlib.figure.Figure at 0x7fb010253590>"
      ]
     },
     "metadata": {},
     "output_type": "display_data"
    },
    {
     "data": {
      "text/plain": [
       "<matplotlib.figure.Figure at 0x7fb010c19250>"
      ]
     },
     "metadata": {},
     "output_type": "display_data"
    },
    {
     "data": {
      "image/png": "[encoded data removed]",
      "text/plain": [
       "<matplotlib.figure.Figure at 0x7fb0109c3c50>"
      ]
     },
     "metadata": {},
     "output_type": "display_data"
    }
   ],
   "source": [
    "import matplotlib.pyplot as plt\n",
    "import matplotlib\n",
    "%matplotlib inline\n",
    "from utils.data_generator import calc_augment_level\n",
    "\n",
    "df = calc_augment_level(y_train, scaling_factor=12)  # (less data / class means more augmentation)\n",
    "print(df)\n",
    "ax = df[['label','frequency']].plot(kind='bar', title='Before', figsize=(15, 5), legend=True, fontsize=12)\n",
    "ax.set_xlabel(\"Traffic Sign\", fontsize=12)\n",
    "ax.set_ylabel(\"Frequency\", fontsize=12)\n",
    "plt.show()\n",
    "\n",
    "df['result'] = df.frequency*df.scaling_factor\n",
    "plt.figure()\n",
    "ax = df[['label','result']].plot(kind='bar', title='After', figsize=(15, 5), legend=True, fontsize=12)\n",
    "ax.set_xlabel(\"Traffic Sign\", fontsize=12)\n",
    "ax.set_ylabel(\"Frequency\", fontsize=12)\n",
    "plt.show()"
   ]
  },
  {
   "cell_type": "code",
   "execution_count": 12,
   "metadata": {},
   "outputs": [
    {
     "name": "stdout",
     "output_type": "stream",
     "text": [
      "    frequency                    label  scaling_factor  result\n",
      "0         296                addedLane              10    2960\n",
      "1          20   bicyclesMayUseFullLane             154    3080\n",
      "2          87                curveLeft              35    3045\n",
      "3         109               curveRight              28    3052\n",
      "4          35                      dip              88    3080\n",
      "5          62               doNotEnter              49    3038\n",
      "6           9                doNotPass             343    3087\n",
      "7          13             intersection             237    3081\n",
      "8          24  intersectionLaneControl             128    3072\n",
      "9         458                keepRight               6    2748\n",
      "10        257                 laneEnds              12    3084\n",
      "11          6      leftAndUTurnControl             514    3084\n",
      "12        284                    merge              10    2840\n",
      "13         73           noLeftAndUTurn              42    3066\n",
      "14         47               noLeftTurn              65    3055\n",
      "15          8                noParking             385    3080\n",
      "16         42              noRightTurn              73    3066\n",
      "17         95                  noUTurn              32    3040\n",
      "18       1608       pedestrianCrossing               1    1608\n",
      "19         11      rampSpeedAdvisory20             280    3080\n",
      "20          5      rampSpeedAdvisory35             617    3085\n",
      "21          3      rampSpeedAdvisory40            1029    3087\n",
      "22         29      rampSpeedAdvisory45             106    3074\n",
      "23         16      rampSpeedAdvisory50             192    3072\n",
      "24          3   rampSpeedAdvisoryUrdbl            1029    3087\n",
      "25         77        rightLaneMustTurn              40    3080\n",
      "26         53               roundabout              58    3074\n",
      "27        224                   school              13    2912\n",
      "28        105       schoolSpeedLimit25              29    3045\n",
      "29       1353              signalAhead               2    2706\n",
      "30         34                     slow              90    3060\n",
      "31          4          speedBumpsAhead             771    3084\n",
      "32         28             speedLimit15             110    3080\n",
      "33        608             speedLimit25               5    3040\n",
      "34        230             speedLimit30              13    2990\n",
      "35        696             speedLimit35               4    2784\n",
      "36        165             speedLimit40              18    2970\n",
      "37        221             speedLimit45              13    2873\n",
      "38        101             speedLimit50              30    3030\n",
      "39          2             speedLimit55            1543    3086\n",
      "40          3             speedLimit60            1029    3087\n",
      "41         74             speedLimit65              41    3034\n",
      "42        132          speedLimitUrdbl              23    3036\n",
      "43       3002                     stop               1    3002\n",
      "44        254                stopAhead              12    3048\n",
      "45          5            thruMergeLeft             617    3085\n",
      "46          7           thruMergeRight             441    3087\n",
      "47         19     thruTrafficMergeLeft             162    3078\n",
      "48         60        truckSpeedLimit55              51    3060\n",
      "49         32                 turnLeft              96    3072\n",
      "50         92                turnRight              33    3036\n",
      "51        236                    yield              13    3068\n",
      "52         61               yieldAhead              50    3050\n",
      "53          8        yieldToPedestrian             385    3080\n",
      "54         21              zoneAhead25             147    3087\n",
      "55         20              zoneAhead45             154    3080\n"
     ]
    }
   ],
   "source": []
  },
  {
   "cell_type": "code",
   "execution_count": null,
   "metadata": {
    "collapsed": true
   },
   "outputs": [],
   "source": [
    "from cfg import *\n",
    "\n",
    "    # Get list of classes\n",
    "fl = open(CATEGORIES, 'r')\n",
    "CLASSES = np.array(fl.read().splitlines())\n",
    "fl.close()\n"
   ]
  },
  {
   "cell_type": "code",
   "execution_count": null,
   "metadata": {
    "collapsed": true
   },
   "outputs": [],
   "source": [
    "import pandas as pd\n",
    "\n",
    "categories = np.unique(y_train[:, 1])\n",
    "label_map  = pd.factorize(categories)[0]\n"
   ]
  },
  {
   "cell_type": "code",
   "execution_count": null,
   "metadata": {
    "collapsed": true
   },
   "outputs": [],
   "source": [
    "from utils.data_generator import flow_from_list\n",
    "from cfg import *\n",
    "\n",
    "data_gen   = flow_from_list(x_train, y_train, batch_size=4, scaling_factor=5, augment_data=True)"
   ]
  },
  {
   "cell_type": "code",
   "execution_count": null,
   "metadata": {
    "scrolled": true
   },
   "outputs": [],
   "source": [
    "images, labels  = data_gen.next()\n",
    "\n",
    "print(\"Images shape {}\".format(images[0].shape))\n",
    "GRID_W = np.shape(images)[2]/ SHRINK_FACTOR\n",
    "GRID_H = np.shape(images)[1]/ SHRINK_FACTOR\n",
    "\n",
    "labels = labels.reshape([-1, GRID_H, GRID_W, N_ANCHORS, N_CLASSES+5])\n",
    "print(\"List of images : {}\".format(np.shape(images)))\n",
    "print(\"List of labels : {}\\n\".format(np.shape(labels)))"
   ]
  },
  {
   "cell_type": "code",
   "execution_count": null,
   "metadata": {},
   "outputs": [],
   "source": [
    "from utils.image_handler import draw_boxes\n",
    "from utils.box import Box\n",
    "import matplotlib.pyplot as plt\n",
    "%matplotlib inline\n",
    "i = np.random.randint(0, 4)\n",
    "height, width, _ = images[i].shape\n",
    "\n",
    "tmp = labels[i][labels[i] > 0.]\n",
    "if len(tmp[0:4]) == 0 :\n",
    "    bbox = Box(0,0,0,0)\n",
    "else:\n",
    "    xc, yc, w ,h = tmp[tmp > 0][0:4]\n",
    "    bbox = Box(xc, yc, w ,h)\n",
    "    bbox.to_abs_size((width, height))\n",
    "    opencv_box = bbox.to_opencv_format()\n",
    "print(bbox)\n",
    "plt.figure(figsize=(15, 15))\n",
    "plt.imshow(draw_boxes(images[i], opencv_box, color=[0, 1, 0], thickness=2))"
   ]
  },
  {
   "cell_type": "code",
   "execution_count": null,
   "metadata": {},
   "outputs": [],
   "source": [
    "import cv2\n",
    "img = images[0]\n",
    "height, width, c = img.shape\n",
    "\n",
    "shrink_factor = 32\n",
    "grid_w = list(range(width/shrink_factor))\n",
    "grid_h = list(range(height/shrink_factor))\n",
    "center = 0\n",
    "# Plot grid map\n",
    "for r in grid_w:\n",
    "    img = cv2.line(img,(r*shrink_factor, 0), (r*shrink_factor, height), color=(0, 1, 0), thickness=2)\n",
    "    \n",
    "for h in grid_h:\n",
    "    img = cv2.line(img,(0, h*shrink_factor), (width, h*shrink_factor), color=(0, 1, 0), thickness=2)\n",
    "    \n",
    "plt.figure(figsize=(10, 10))\n",
    "plt.imshow(img)"
   ]
  },
  {
   "cell_type": "code",
   "execution_count": null,
   "metadata": {},
   "outputs": [],
   "source": [
    "# Test if it is in correct cell, this case, traffic sign is located in cell r=6, c=17\n",
    "a = labels[0][labels[0] > 0.]\n",
    "\n",
    "center = (height - 15*shrink_factor, width - 6*shrink_factor)\n",
    "print(center)\n",
    "p1 = (center[0] - 16, center[1] - 16)\n",
    "p2 = (center[0] + 16, center[1] + 16)\n",
    "result = cv2.rectangle(img, p1, p2, (0, 1, 0), thickness=cv2.FILLED)\n",
    "\n",
    "plt.imshow(result)"
   ]
  },
  {
   "cell_type": "code",
   "execution_count": null,
   "metadata": {},
   "outputs": [],
   "source": [
    "from utils.image_handler import draw_boxes\n",
    "from utils.box import Box\n",
    "import matplotlib.pyplot as plt\n",
    "%matplotlib inline\n",
    "\n",
    "label_map = np.unique(y_train[:, 1])\n",
    "row, col = 2, 2\n",
    "fg, a    = plt.subplots(row, col, figsize =(20, 15))\n",
    "fg.tight_layout()\n",
    "height, width, _ = images[0].shape\n",
    "print(\"Image size:\", images[0].shape)\n",
    "i        = 0\n",
    "for r in range(row):\n",
    "    for c in range(col):\n",
    "        tmp = labels[i][labels[i] > 0.]\n",
    "        if len(tmp[0:4]) == 0 :\n",
    "            bbox = Box(0,0,0,0)\n",
    "        else:\n",
    "            xc, yc, w ,h = tmp[tmp > 0][0:4]\n",
    "            bbox = Box(xc, yc, w ,h)\n",
    "            print(bbox)\n",
    "        bbox.to_abs_size((width, height))\n",
    "        opencv_box = bbox.to_opencv_format()\n",
    "        print(opencv_box)\n",
    "        a[r, c].axis('off')\n",
    "        a[r, c].imshow(draw_boxes(images[i], opencv_box, color=(255, 255, 255), thickness=2))\n",
    "        a[r, c].set_title(str(i))\n",
    "        i +=1"
   ]
  },
  {
   "cell_type": "code",
   "execution_count": null,
   "metadata": {
    "collapsed": true
   },
   "outputs": [],
   "source": []
  }
 ],
 "metadata": {
  "kernelspec": {
   "display_name": "Python 2",
   "language": "python",
   "name": "python2"
  },
  "language_info": {
   "codemirror_mode": {
    "name": "ipython",
    "version": 2
   },
   "file_extension": ".py",
   "mimetype": "text/x-python",
   "name": "python",
   "nbconvert_exporter": "python",
   "pygments_lexer": "ipython2",
   "version": "2.7.13"
  }
 },
 "nbformat": 4,
 "nbformat_minor": 1
}
