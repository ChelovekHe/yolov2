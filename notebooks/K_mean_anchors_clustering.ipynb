{
 "cells": [
  {
   "cell_type": "markdown",
   "metadata": {},
   "source": [
    "## Generate Anchors using K-mean clustering"
   ]
  },
  {
   "cell_type": "code",
   "execution_count": 1,
   "metadata": {},
   "outputs": [
    {
     "name": "stdout",
     "output_type": "stream",
     "text": [
      "3.6.1 |Anaconda 4.4.0 (64-bit)| (default, May 11 2017, 13:09:58) \n",
      "[GCC 4.4.7 20120313 (Red Hat 4.4.7-1)]\n"
     ]
    }
   ],
   "source": [
    "import sys\n",
    "print(sys.version)"
   ]
  },
  {
   "cell_type": "code",
   "execution_count": 2,
   "metadata": {
    "collapsed": true
   },
   "outputs": [],
   "source": [
    "import numpy as np\n",
    "\n",
    "\n",
    "def k_mean_cluster(n_anchors, gt_boxes, loss_convergence=1e-5):\n",
    "    \"\"\"\n",
    "    Cluster anchors.\n",
    "    \"\"\"\n",
    "    # initial random centroids\n",
    "    centroid_indices = np.random.choice(len(gt_boxes), k)\n",
    "    centroids = []\n",
    "    for centroid_index in centroid_indices:\n",
    "        centroids.append(gt_boxes[centroid_index])\n",
    "        \n",
    "    # iterate k-means\n",
    "    anchors, avg_iou, loss = run_k_mean(k, gt_boxes, centroids)\n",
    "    while True:\n",
    "        anchors, avg_iou, curr_loss = run_k_mean(k, gt_boxes, anchors)\n",
    "        if abs(loss - curr_loss) < loss_conv:\n",
    "            break\n",
    "        loss = curr_loss\n",
    "    \n",
    "    return anchors, avg_iou\n",
    "\n",
    "\n",
    "def run_k_mean(n_anchors, boxes, centroids):\n",
    "    \"\"\"\n",
    "    Perform K-mean clustering on training ground truth to generate anchors. \n",
    "    In the paper, authors argues that generating anchors through anchors would improve Recall of the network\n",
    "\n",
    "    NOTE: Euclidean distance produces larger errors for larger boxes. Therefore, YOLOv2 did not use Euclidean distance \n",
    "          to measure calculate loss. Instead, it uses the following formula:\n",
    "\n",
    "                    d(box, centroid) = 1−IOU(box, centroid)\n",
    "\n",
    "    :param num_anchors: K-value , number of desired anchors box\n",
    "    :param boxes:      list of bounding box in format [x1, y1, w, h]\n",
    "    :param centroids: \n",
    "    :return: \n",
    "        new_centroids: set of new anchors\n",
    "        groups:        wth?\n",
    "        loss:          compared to current bboxes\n",
    "    \"\"\"\n",
    "    loss = 0\n",
    "    groups = []\n",
    "    new_centroids = []\n",
    "    for i in range(n_anchors):\n",
    "        groups.append([])\n",
    "        new_centroids.append(Box(0, 0, 0, 0))\n",
    "\n",
    "    for box in boxes:\n",
    "        min_distance = 1\n",
    "        group_index = 0\n",
    "\n",
    "        for i, centroid in enumerate(centroids):\n",
    "            distance = (1 - box_iou(box, centroid))\n",
    "            if distance < min_distance:\n",
    "                min_distance = distance\n",
    "                group_index = i\n",
    "\n",
    "        groups[group_index].append(box)\n",
    "        loss += min_distance\n",
    "        new_centroids[group_index].w += box.w\n",
    "        new_centroids[group_index].h += box.h\n",
    "\n",
    "    for i in range(n_anchors):\n",
    "        if(len(groups[i]) == 0):\n",
    "            continue\n",
    "        new_centroids[i].w /= len(groups[i])\n",
    "        new_centroids[i].h /= len(groups[i])\n",
    "        \n",
    "    iou = 0\n",
    "    counter = 0\n",
    "    for i, anchor in enumerate(new_centroids):\n",
    "        for gt_box in groups[i]:\n",
    "            iou += box_iou(gt_box, anchor)\n",
    "            counter +=1\n",
    "            \n",
    "    avg_iou = iou/counter       \n",
    "    # print(\"Average IOU: {:4f}\".format(avg_iou))  \n",
    "    return new_centroids, avg_iou, loss\n",
    "\n",
    "\n",
    "def convert_bbox(x1, y1, x2, y2): \n",
    "    w = float(x2) - float(x1)\n",
    "    h = float(y2) - float(y1)\n",
    "    xc= float(x1) + w/2.\n",
    "    yc= float(y1) + h/2.  \n",
    "    return xc, yc, w ,h\n",
    "\n",
    "def scale_rel_box(img_size, box ):\n",
    "    \"\"\"\n",
    "    Scale bounding box relative to image size\n",
    "    \"\"\"\n",
    "    width, height, _  = img_size\n",
    "    dw = 1./width\n",
    "    dh = 1./height\n",
    "    xc = (box.x)*dw\n",
    "    yc = (box.y)*dh\n",
    "    w  = (box.w)*dw\n",
    "    h  = (box.h)*dh\n",
    "    return xc, yc, w, h\n",
    "\n",
    "class Box(object):\n",
    "    def __init__(self, xc, yc, w, h):\n",
    "        self.x = xc\n",
    "        self.y = yc\n",
    "        self.w = w\n",
    "        self.h = h\n",
    "\n",
    "def box_iou(b1, b2):\n",
    "    intersect = box_intersection(b1, b2)\n",
    "    union = box_union(b1, b2)\n",
    "    iou = float(intersect / union)\n",
    "    return iou\n",
    "\n",
    "\n",
    "def box_intersection(b1, b2):\n",
    "    w = overlap(b1.x, b1.w, b2.x, b2.w)\n",
    "    h = overlap(b1.x, b1.h, b2.x, b2.h)\n",
    "    if (w < 0) or (h < 0): return 0\n",
    "    area = w * h\n",
    "    return area\n",
    "\n",
    "\n",
    "def overlap(x1, w1, x2, w2):\n",
    "    l1 = x1 - (w1 / 2.)\n",
    "    l2 = x2 - (w2 / 2.)\n",
    "    r1 = x1 + (w1 / 2.)\n",
    "    r2 = x2 + (w2 / 2.)\n",
    "    left = l1 if l1 >= l2 else l2\n",
    "    right = r1 if r1 <= r2 else r2\n",
    "    return right - left\n",
    "\n",
    "\n",
    "def box_union(b1, b2):\n",
    "    intersect = box_intersection(b1, b2)\n",
    "    union = (b1.w * b1.h) + (b2.w * b2.h) - intersect\n",
    "    return union"
   ]
  },
  {
   "cell_type": "code",
   "execution_count": 10,
   "metadata": {},
   "outputs": [
    {
     "name": "stdout",
     "output_type": "stream",
     "text": [
      "Number of ground truth boxes: 3672 boxes\n"
     ]
    }
   ],
   "source": [
    "k            = 5  # num_anchors\n",
    "label_path   = 'training.txt'  # lisa extension training data using save_lisa_to_txt(path_to_lisa_training)\n",
    "loss_conv    = 1e-5\n",
    "img_size     = [1280, 960, 0]\n",
    "feature_map  = [d/32 for d in img_size]    # DarkNet19 on YOLOv2 Max-pool 5 times --> output'size shrinked 2^5 = 32 times\n",
    "gt_boxes = []\n",
    "\n",
    "with open(label_path, \"r\") as f:\n",
    "    lines = f.readlines()\n",
    "    for line in lines:\n",
    "        img_path, x1, y1, x2, y2, label = line.rstrip().split(\",\")\n",
    "        xc, yc, w, h = convert_bbox(x1, y1, x2, y2)\n",
    "        xc, yc, w, h = scale_rel_box(img_size, Box(xc, yc, w, h))\n",
    "        gt_boxes.append(Box(0, 0, float(w), float(h))) # since we calculate w h of anchors, we do not take xc yc into account\n",
    "print(\"Number of ground truth boxes: {} boxes\".format(len(gt_boxes)))"
   ]
  },
  {
   "cell_type": "code",
   "execution_count": 11,
   "metadata": {},
   "outputs": [
    {
     "name": "stdout",
     "output_type": "stream",
     "text": [
      "K = :  1 | AVG_IOU:0.575513 \n",
      "K = :  2 | AVG_IOU:0.707510 \n",
      "K = :  3 | AVG_IOU:0.765600 \n",
      "K = :  4 | AVG_IOU:0.805572 \n",
      "K = :  5 | AVG_IOU:0.830067 \n",
      "K = :  6 | AVG_IOU:0.851326 \n",
      "K = :  7 | AVG_IOU:0.860660 \n",
      "K = :  8 | AVG_IOU:0.871665 \n",
      "K = :  9 | AVG_IOU:0.878004 \n",
      "K = : 10 | AVG_IOU:0.883690 \n",
      "K = : 11 | AVG_IOU:0.887038 \n",
      "K = : 12 | AVG_IOU:0.889878 \n",
      "K = : 13 | AVG_IOU:0.895427 \n",
      "K = : 14 | AVG_IOU:0.899340 \n"
     ]
    }
   ],
   "source": [
    "## K-MEAN CLUSTERING\n",
    "anchor_list = []\n",
    "avg_iou_list = []\n",
    "for k in list(range(1, 15)):\n",
    "    anchors, avg_iou = k_mean_cluster(k, gt_boxes, loss_convergence=1e-6)\n",
    "    print(\"K = : {:2} | AVG_IOU:{:-4f} \".format(k, avg_iou))\n",
    "    anchor_list.append(anchors)\n",
    "    avg_iou_list.append(avg_iou)"
   ]
  },
  {
   "cell_type": "code",
   "execution_count": 12,
   "metadata": {},
   "outputs": [
    {
     "data": {
      "text/plain": [
       "<matplotlib.text.Text at 0x7f3a055b2860>"
      ]
     },
     "execution_count": 12,
     "metadata": {},
     "output_type": "execute_result"
    },
    {
     "data": {
      "image/png": "[encoded data removed]",
      "text/plain": [
       "<matplotlib.figure.Figure at 0x7f3a0563e6d8>"
      ]
     },
     "metadata": {},
     "output_type": "display_data"
    }
   ],
   "source": [
    "import matplotlib.pyplot as plt\n",
    "%matplotlib inline\n",
    "marker_style = dict(color='cornflowerblue', linestyle=':', marker='o',\n",
    "                    markersize=15, markerfacecoloralt='gray')\n",
    "\n",
    "x = list(range(1, 15))\n",
    "plt.figure(figsize=(15, 10))\n",
    "plt.plot(x, avg_iou_list, fillstyle='full', **marker_style)\n",
    "plt.grid()\n",
    "plt.yticks(np.arange(0, 1, 0.1))\n",
    "plt.xticks(np.arange(1, 15, 1.0))\n",
    "plt.xlim([1, 15] ) # this line\n",
    "plt.title(\"Effect of Number of Anchors on Average IoU\", fontsize=20)"
   ]
  },
  {
   "cell_type": "code",
   "execution_count": 15,
   "metadata": {},
   "outputs": [
    {
     "name": "stdout",
     "output_type": "stream",
     "text": [
      "Anchors box result [relative to feature map] on LISA Dataset:\n",
      "\n",
      "0.059577141608391594 0.08738709207459215\n",
      "0.03283318210930825 0.0483890193566751\n",
      "0.023717899133663362 0.035715759075907606\n",
      "0.08816276658767774 0.1294924960505529\n",
      "0.04450034340659346 0.064308608058608\n"
     ]
    }
   ],
   "source": [
    "# print result\n",
    "print(\"Anchors box result [relative to feature map] on LISA Dataset:\\n\")\n",
    "for anchor in anchor_list[4]:  # Select K = 5 \n",
    "    print(anchor.w , anchor.h)"
   ]
  },
  {
   "cell_type": "code",
   "execution_count": null,
   "metadata": {
    "collapsed": true
   },
   "outputs": [],
   "source": [
    ""
   ]
  }
 ],
 "metadata": {
  "kernelspec": {
   "display_name": "Python 2",
   "language": "python",
   "name": "python2"
  },
  "language_info": {
   "codemirror_mode": {
    "name": "ipython",
    "version": 3.0
   },
   "file_extension": ".py",
   "mimetype": "text/x-python",
   "name": "python",
   "nbconvert_exporter": "python",
   "pygments_lexer": "ipython3",
   "version": "3.6.1"
  }
 },
 "nbformat": 4,
 "nbformat_minor": 0
}